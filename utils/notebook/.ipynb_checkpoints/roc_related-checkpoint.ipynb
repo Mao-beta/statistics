{
 "cells": [
  {
   "cell_type": "code",
   "execution_count": 1,
   "metadata": {},
   "outputs": [],
   "source": [
    "from pathlib import Path\n",
    "import math\n",
    "import numpy as np\n",
    "import pandas as pd\n",
    "import matplotlib.pyplot as plt\n",
    "import seaborn as sns\n",
    "import scipy\n",
    "import scipy.stats as st\n",
    "from sklearn.metrics import roc_auc_score, roc_curve, auc, confusion_matrix\n",
    "from statsmodels.stats.proportion import proportion_confint"
   ]
  },
  {
   "cell_type": "code",
   "execution_count": 2,
   "metadata": {},
   "outputs": [
    {
     "data": {
      "text/html": [
       "<div>\n",
       "<style scoped>\n",
       "    .dataframe tbody tr th:only-of-type {\n",
       "        vertical-align: middle;\n",
       "    }\n",
       "\n",
       "    .dataframe tbody tr th {\n",
       "        vertical-align: top;\n",
       "    }\n",
       "\n",
       "    .dataframe thead th {\n",
       "        text-align: right;\n",
       "    }\n",
       "</style>\n",
       "<table border=\"1\" class=\"dataframe\">\n",
       "  <thead>\n",
       "    <tr style=\"text-align: right;\">\n",
       "      <th></th>\n",
       "      <th>filename</th>\n",
       "      <th>true</th>\n",
       "      <th>predict</th>\n",
       "      <th>0</th>\n",
       "      <th>1</th>\n",
       "    </tr>\n",
       "  </thead>\n",
       "  <tbody>\n",
       "    <tr>\n",
       "      <th>0</th>\n",
       "      <td>1000013L.jpg</td>\n",
       "      <td>0</td>\n",
       "      <td>0</td>\n",
       "      <td>0.974636</td>\n",
       "      <td>0.025364</td>\n",
       "    </tr>\n",
       "    <tr>\n",
       "      <th>1</th>\n",
       "      <td>1000013R.jpg</td>\n",
       "      <td>0</td>\n",
       "      <td>0</td>\n",
       "      <td>0.981566</td>\n",
       "      <td>0.018434</td>\n",
       "    </tr>\n",
       "    <tr>\n",
       "      <th>2</th>\n",
       "      <td>1000811L.jpg</td>\n",
       "      <td>1</td>\n",
       "      <td>1</td>\n",
       "      <td>0.001978</td>\n",
       "      <td>0.998022</td>\n",
       "    </tr>\n",
       "    <tr>\n",
       "      <th>3</th>\n",
       "      <td>1000811R.jpg</td>\n",
       "      <td>1</td>\n",
       "      <td>1</td>\n",
       "      <td>0.000450</td>\n",
       "      <td>0.999550</td>\n",
       "    </tr>\n",
       "    <tr>\n",
       "      <th>4</th>\n",
       "      <td>1006414L.jpg</td>\n",
       "      <td>1</td>\n",
       "      <td>1</td>\n",
       "      <td>0.054597</td>\n",
       "      <td>0.945403</td>\n",
       "    </tr>\n",
       "    <tr>\n",
       "      <th>...</th>\n",
       "      <td>...</td>\n",
       "      <td>...</td>\n",
       "      <td>...</td>\n",
       "      <td>...</td>\n",
       "      <td>...</td>\n",
       "    </tr>\n",
       "    <tr>\n",
       "      <th>1271</th>\n",
       "      <td>1160685_20180504_102440_n_R.jpg</td>\n",
       "      <td>0</td>\n",
       "      <td>0</td>\n",
       "      <td>0.694956</td>\n",
       "      <td>0.305044</td>\n",
       "    </tr>\n",
       "    <tr>\n",
       "      <th>1272</th>\n",
       "      <td>1160766_20180418_120552_n_L.jpg</td>\n",
       "      <td>1</td>\n",
       "      <td>1</td>\n",
       "      <td>0.000619</td>\n",
       "      <td>0.999381</td>\n",
       "    </tr>\n",
       "    <tr>\n",
       "      <th>1273</th>\n",
       "      <td>1160766_20180418_120552_n_R.jpg</td>\n",
       "      <td>1</td>\n",
       "      <td>1</td>\n",
       "      <td>0.036431</td>\n",
       "      <td>0.963569</td>\n",
       "    </tr>\n",
       "    <tr>\n",
       "      <th>1274</th>\n",
       "      <td>1160766_20180525_140833_n_L.jpg</td>\n",
       "      <td>0</td>\n",
       "      <td>1</td>\n",
       "      <td>0.020580</td>\n",
       "      <td>0.979420</td>\n",
       "    </tr>\n",
       "    <tr>\n",
       "      <th>1275</th>\n",
       "      <td>1160766_20180525_140833_n_R.jpg</td>\n",
       "      <td>0</td>\n",
       "      <td>1</td>\n",
       "      <td>0.155401</td>\n",
       "      <td>0.844599</td>\n",
       "    </tr>\n",
       "  </tbody>\n",
       "</table>\n",
       "<p>1276 rows × 5 columns</p>\n",
       "</div>"
      ],
      "text/plain": [
       "                             filename  true  predict         0         1\n",
       "0                        1000013L.jpg     0        0  0.974636  0.025364\n",
       "1                        1000013R.jpg     0        0  0.981566  0.018434\n",
       "2                        1000811L.jpg     1        1  0.001978  0.998022\n",
       "3                        1000811R.jpg     1        1  0.000450  0.999550\n",
       "4                        1006414L.jpg     1        1  0.054597  0.945403\n",
       "...                               ...   ...      ...       ...       ...\n",
       "1271  1160685_20180504_102440_n_R.jpg     0        0  0.694956  0.305044\n",
       "1272  1160766_20180418_120552_n_L.jpg     1        1  0.000619  0.999381\n",
       "1273  1160766_20180418_120552_n_R.jpg     1        1  0.036431  0.963569\n",
       "1274  1160766_20180525_140833_n_L.jpg     0        1  0.020580  0.979420\n",
       "1275  1160766_20180525_140833_n_R.jpg     0        1  0.155401  0.844599\n",
       "\n",
       "[1276 rows x 5 columns]"
      ]
     },
     "execution_count": 2,
     "metadata": {},
     "output_type": "execute_result"
    }
   ],
   "source": [
    "data_root = Path(\"../data/roc_related\")\n",
    "miss_df_path = data_root / \"miss_summary.csv\"\n",
    "miss_df = pd.read_csv(miss_df_path)\n",
    "miss_df"
   ]
  },
  {
   "cell_type": "code",
   "execution_count": 3,
   "metadata": {},
   "outputs": [],
   "source": [
    "class roc_analysis_binary():\n",
    "    \"\"\"\n",
    "    二値分類のmiss_summary_dfからROC曲線を描き、\n",
    "    Youden Indexに基づきAUC、感度、特異度の信頼区間を算出するためのクラス\n",
    "    \n",
    "    input\n",
    "        miss_df:true, predict, 0, 1の列があるDataFrame\n",
    "                true, predictの列は0/1のタグ、0, 1の列は確率値\n",
    "        alpha: 有意水準、0以上1以下のfloat値        \n",
    "    \"\"\"\n",
    "    \n",
    "    def __init__(self, miss_df: pd.DataFrame, alpha: float):\n",
    "        self.miss_df = miss_df.copy()\n",
    "        self.alpha = alpha\n",
    "        \n",
    "        assert \"true\" in miss_df.columns\n",
    "        assert \"predict\" in miss_df.columns\n",
    "        assert \"0\" in miss_df.columns\n",
    "        assert \"1\" in miss_df.columns\n",
    "        assert 0 <= alpha <= 1\n",
    "        \n",
    "        # FPR, TPR, thresholdを計算しlistで保持\n",
    "        self.fpr, self.tpr, self.thres = roc_curve(self.miss_df[\"true\"], self.miss_df[\"1\"])\n",
    "        \n",
    "        # ROC曲線のAUCと信頼区間を計算\n",
    "        self.roc_auc = auc(self.fpr, self.tpr)\n",
    "        self.roc_auc_ci = self.calc_roc_auc_ci()\n",
    "        \n",
    "        # Youden Indexに基づいた最適値(optimal thresholdとその時のFPR,TPR)を計算\n",
    "        optimal_values = self.find_optimal_point(self.fpr, self.tpr, self.thres)\n",
    "        self.opt_fpr, self.opt_tpr, self.opt_thres = optimal_values\n",
    "        \n",
    "        # 感度、特異度を計算\n",
    "        self.sens = self.opt_tpr\n",
    "        self.spec = 1 - self.opt_fpr\n",
    "        \n",
    "        # 混同行列を作成\n",
    "        labels = [0,1]\n",
    "        self.miss_df[\"predict\"] = self.miss_df[\"1\"].apply(lambda x: 1 if x >= self.opt_thres else 0)\n",
    "        self.cross = confusion_matrix(self.miss_df[\"true\"], self.miss_df[\"predict\"],labels=labels)\n",
    "        self.cross = pd.DataFrame(self.cross, columns=labels, index=labels)\n",
    "        self.cross[\"All\"] = [self.cross.iloc[0, 0] + self.cross.iloc[0, 1], self.cross.iloc[1, 0] + self.cross.iloc[1, 1]]\n",
    "        row_all = [self.cross[0].sum(), self.cross[1].sum(), self.cross[\"All\"].sum()]\n",
    "        self.cross = pd.concat([self.cross, pd.DataFrame(row_all, index=labels+[\"All\"]).T])\n",
    "        self.cross.index = [0, 1, \"All\"]\n",
    "        \n",
    "        # 感度の信頼区間\n",
    "        self.k_sens = self.cross.iloc[1, 1]\n",
    "        self.n_sens = self.cross.iloc[1, 0] + self.cross.iloc[1, 1]\n",
    "        self.sens_ci = proportion_confint(self.k_sens, self.n_sens, self.alpha, method=\"beta\")\n",
    "        \n",
    "        # 特異度の信頼区間\n",
    "        self.k_spec = self.cross.iloc[0, 0]\n",
    "        self.n_spec = self.cross.iloc[0, 0] + self.cross.iloc[0, 1]\n",
    "        self.spec_ci = proportion_confint(self.k_spec, self.n_spec, self.alpha, method=\"beta\")\n",
    "\n",
    "\n",
    "    # サマリー\n",
    "    def summary(self):\n",
    "        print(\"混同行列\")\n",
    "        display(self.cross)\n",
    "        print(f\"閾値\\t{self.opt_thres:.3f}\")\n",
    "        conf_coef = round((1 - self.alpha) * 100)\n",
    "        print(f\"AUC\\t{self.roc_auc:.3f}\\t{conf_coef}％信頼区間[{self.roc_auc_ci[0]:.3f}, {self.roc_auc_ci[1]:.3f}]\")\n",
    "        print(f\"感度\\t{self.sens:.3f}\\t{conf_coef}％信頼区間[{self.sens_ci[0]:.3f}, {self.sens_ci[1]:.3f}]\")\n",
    "        print(f\"特異度\\t{self.spec:.3f}\\t{conf_coef}％信頼区間[{self.spec_ci[0]:.3f}, {self.spec_ci[1]:.3f}]\")\n",
    "        self.plot_roc_curve()\n",
    "\n",
    "\n",
    "    # 計算処理系\n",
    "    @staticmethod\n",
    "    def find_optimal_point(fpr: list, tpr: list, thres: list):\n",
    "        \"\"\"\n",
    "        FPR, TPR, thresholdの配列から、Youden Index最大のものをそれぞれ取得\n",
    "        \"\"\"\n",
    "        fpr, tpr = np.array(fpr), np.array(tpr)\n",
    "        idx = np.argmax(tpr - fpr)\n",
    "        return fpr[idx], tpr[idx], thres[idx]\n",
    "    \n",
    "    def calc_roc_auc_ci(self):\n",
    "        \"\"\"\n",
    "        ROC曲線のAUCの信頼区間を算出する\n",
    "        \"\"\"\n",
    "        AUC = self.roc_auc\n",
    "        N1 = self.miss_df[\"true\"].sum()\n",
    "        N2 = len(self.miss_df) - N1\n",
    "        \n",
    "        Q1 = AUC / (2 - AUC)\n",
    "        Q2 = 2*AUC**2 / (1 + AUC)\n",
    "        SE_AUC = np.sqrt((AUC*(1 - AUC) + (N1 - 1)*(Q1 - AUC**2) + \n",
    "                            (N2 - 1)*(Q2 - AUC**2)) / (N1*N2))\n",
    "        lower, upper = st.norm.interval(1-self.alpha, loc=AUC, scale=SE_AUC)\n",
    "        if lower < 0:\n",
    "            lower = 0\n",
    "        if upper > 1:\n",
    "            upper = 1\n",
    "        return lower, upper\n",
    "\n",
    "    \n",
    "    # 出力系\n",
    "    def output_all(self, new_folder: str=\"./\"):\n",
    "        self.output_summary_csv(new_folder=new_folder)\n",
    "        self.output_confusion_matrix(new_folder=new_folder)\n",
    "        self.output_roc_curve(new_img_folder=new_folder)\n",
    "    \n",
    "    \n",
    "    def output_summary_csv(self, new_folder: str =\"./\", new_filename: str =\"summary.csv\"):\n",
    "        new_folder = Path(new_folder)\n",
    "        new_path = new_folder / new_filename\n",
    "        auc_list = [self.roc_auc, *self.roc_auc_ci]\n",
    "        sens_list = [self.sens, *self.sens_ci]\n",
    "        spec_list = [self.spec, *self.spec_ci]\n",
    "        thres_list = [self.opt_thres, None, None]\n",
    "        res_df = pd.DataFrame({\"AUC\": auc_list, \"感度\": sens_list, \"特異度\": spec_list, \"閾値\": thres_list})\n",
    "        res_df.to_csv(new_path, index=None, encoding=\"shift-jis\")\n",
    "        \n",
    "    \n",
    "    def output_confusion_matrix(self, new_folder: str =\"./\", new_filename: str =\"confusion.csv\"):\n",
    "        new_folder = Path(new_folder)\n",
    "        new_path = new_folder / new_filename\n",
    "        self.cross.to_csv(new_path, index_label=\"true|predict\")\n",
    "    \n",
    "    def output_roc_curve(self, new_img_folder: str =\"./\",\n",
    "                       new_img_filename: str =\"roc.tiff\", dpi: int =300):\n",
    "        \"\"\"\n",
    "        ROC曲線のグラフ画像を出力する\n",
    "        \n",
    "        input\n",
    "            new_img_folder: str デフォルトは同じ階層\n",
    "            new_img_filename: str  デフォルトは\"roc.tiff\"\n",
    "            dpi: int  デフォルトは300\n",
    "        output\n",
    "            画像ファイル\n",
    "        \"\"\"\n",
    "        img_folder = Path(new_img_folder)\n",
    "        img_path = img_folder / new_img_filename\n",
    "        \n",
    "        fig, ax = plt.subplots(1,1)\n",
    "        ax = self.plot_roc_curve(ax)\n",
    "        plt.savefig(img_path, dpi=dpi)\n",
    "\n",
    "\n",
    "    # 描画系\n",
    "    def plot_roc_curve(self, ax=None):\n",
    "        \"\"\"\n",
    "        ROC曲線のグラフ画像をplotしてaxを返す\n",
    "        \"\"\"\n",
    "        if ax is None:\n",
    "            fig, ax = plt.subplots(1,1)\n",
    "        \n",
    "        ax.plot(self.fpr, self.tpr, linewidth=3,\n",
    "                 label=f'ROC curve (area = {self.roc_auc:.3f})')\n",
    "        ax.scatter([self.opt_fpr],\n",
    "                    [self.opt_tpr], s=50, c=\"green\")\n",
    "        ax.plot([0, 1], [0, 1], 'k--')\n",
    "        ax.set_xlim([0.0, 1.0])\n",
    "        ax.set_ylim([0.0, 1.0])\n",
    "        ax.set_xlabel('False Positive Rate')\n",
    "        ax.set_ylabel('True Positive Rate')\n",
    "        ax.set_title('ROC curve')\n",
    "        ax.legend(loc=\"lower right\")\n",
    "        ax.set_aspect(\"equal\")\n",
    "        return ax\n"
   ]
  },
  {
   "cell_type": "code",
   "execution_count": 5,
   "metadata": {
    "scrolled": true
   },
   "outputs": [
    {
     "name": "stdout",
     "output_type": "stream",
     "text": [
      "混同行列\n"
     ]
    },
    {
     "data": {
      "text/html": [
       "<div>\n",
       "<style scoped>\n",
       "    .dataframe tbody tr th:only-of-type {\n",
       "        vertical-align: middle;\n",
       "    }\n",
       "\n",
       "    .dataframe tbody tr th {\n",
       "        vertical-align: top;\n",
       "    }\n",
       "\n",
       "    .dataframe thead th {\n",
       "        text-align: right;\n",
       "    }\n",
       "</style>\n",
       "<table border=\"1\" class=\"dataframe\">\n",
       "  <thead>\n",
       "    <tr style=\"text-align: right;\">\n",
       "      <th></th>\n",
       "      <th>0</th>\n",
       "      <th>1</th>\n",
       "      <th>All</th>\n",
       "    </tr>\n",
       "  </thead>\n",
       "  <tbody>\n",
       "    <tr>\n",
       "      <th>0</th>\n",
       "      <td>538</td>\n",
       "      <td>114</td>\n",
       "      <td>652</td>\n",
       "    </tr>\n",
       "    <tr>\n",
       "      <th>1</th>\n",
       "      <td>106</td>\n",
       "      <td>518</td>\n",
       "      <td>624</td>\n",
       "    </tr>\n",
       "    <tr>\n",
       "      <th>All</th>\n",
       "      <td>644</td>\n",
       "      <td>632</td>\n",
       "      <td>1276</td>\n",
       "    </tr>\n",
       "  </tbody>\n",
       "</table>\n",
       "</div>"
      ],
      "text/plain": [
       "       0    1   All\n",
       "0    538  114   652\n",
       "1    106  518   624\n",
       "All  644  632  1276"
      ]
     },
     "metadata": {},
     "output_type": "display_data"
    },
    {
     "name": "stdout",
     "output_type": "stream",
     "text": [
      "閾値\t0.836\n",
      "AUC\t0.900\t95％信頼区間[0.882, 0.917]\n",
      "感度\t0.830\t95％信頼区間[0.798, 0.859]\n",
      "特異度\t0.825\t95％信頼区間[0.794, 0.854]\n"
     ]
    },
    {
     "data": {
      "image/png": "[encoded data removed]",
      "text/plain": [
       "<Figure size 432x288 with 1 Axes>"
      ]
     },
     "metadata": {
      "needs_background": "light"
     },
     "output_type": "display_data"
    },
    {
     "data": {
      "image/png": "[encoded data removed]",
      "text/plain": [
       "<Figure size 432x288 with 1 Axes>"
      ]
     },
     "metadata": {
      "needs_background": "light"
     },
     "output_type": "display_data"
    }
   ],
   "source": [
    "roc_ins = roc_analysis_binary(miss_df, 0.05)\n",
    "roc_ins.summary()\n",
    "roc_ins.output_all(\"./\")"
   ]
  },
  {
   "cell_type": "code",
   "execution_count": 7,
   "metadata": {},
   "outputs": [
    {
     "data": {
      "text/plain": [
       "0.5540752351097179"
      ]
     },
     "execution_count": 7,
     "metadata": {},
     "output_type": "execute_result"
    }
   ],
   "source": [
    "707/1276"
   ]
  },
  {
   "cell_type": "code",
   "execution_count": 22,
   "metadata": {},
   "outputs": [
    {
     "data": {
      "image/png": "[encoded data removed]",
      "text/plain": [
       "<Figure size 432x288 with 1 Axes>"
      ]
     },
     "metadata": {
      "needs_background": "light"
     },
     "output_type": "display_data"
    }
   ],
   "source": [
    "fpr, tpr, thres = roc_curve(miss_df[\"true\"], miss_df[\"1\"])\n",
    "roc_auc = auc(fpr, tpr)\n",
    "plt.figure()\n",
    "plt.plot(fpr, tpr, linewidth=3,\n",
    "         label='ROC curve (area = %0.3f)' % roc_auc)\n",
    "n = len(fpr)//2\n",
    "plt.scatter([fpr[n]],\n",
    "            [tpr[n]], s=50, c=\"green\")\n",
    "plt.plot([0, 1], [0, 1], 'k--')\n",
    "plt.xlim([0.0, 1.0])\n",
    "plt.ylim([0.0, 1.0])\n",
    "plt.xlabel('False Positive Rate')\n",
    "plt.ylabel('True Positive Rate')\n",
    "plt.title('ROC curve')\n",
    "plt.legend(loc=\"lower right\")\n",
    "plt.show()\n",
    "#plt.savefig(roc_fig, dpi=300)\n",
    "plt.close()"
   ]
  },
  {
   "cell_type": "code",
   "execution_count": null,
   "metadata": {},
   "outputs": [],
   "source": []
  }
 ],
 "metadata": {
  "kernelspec": {
   "display_name": "Python 3",
   "language": "python",
   "name": "python3"
  },
  "language_info": {
   "codemirror_mode": {
    "name": "ipython",
    "version": 3
   },
   "file_extension": ".py",
   "mimetype": "text/x-python",
   "name": "python",
   "nbconvert_exporter": "python",
   "pygments_lexer": "ipython3",
   "version": "3.7.7"
  },
  "varInspector": {
   "cols": {
    "lenName": 16,
    "lenType": 16,
    "lenVar": 40
   },
   "kernels_config": {
    "python": {
     "delete_cmd_postfix": "",
     "delete_cmd_prefix": "del ",
     "library": "var_list.py",
     "varRefreshCmd": "print(var_dic_list())"
    },
    "r": {
     "delete_cmd_postfix": ") ",
     "delete_cmd_prefix": "rm(",
     "library": "var_list.r",
     "varRefreshCmd": "cat(var_dic_list()) "
    }
   },
   "types_to_exclude": [
    "module",
    "function",
    "builtin_function_or_method",
    "instance",
    "_Feature"
   ],
   "window_display": false
  }
 },
 "nbformat": 4,
 "nbformat_minor": 4
}
