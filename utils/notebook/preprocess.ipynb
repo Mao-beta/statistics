{
 "cells": [
  {
   "cell_type": "code",
   "execution_count": 4,
   "metadata": {},
   "outputs": [],
   "source": [
    "from pathlib import Path\n",
    "import numpy as np\n",
    "import cv2\n",
    "from tqdm import tqdm"
   ]
  },
  {
   "cell_type": "code",
   "execution_count": 5,
   "metadata": {},
   "outputs": [],
   "source": [
    "def imread(filename, flags=cv2.IMREAD_COLOR, dtype=np.uint8):\n",
    "    \"\"\"\n",
    "    ASCII文字を含んだファイル名でもOpenCV的に読み込む\n",
    "    \"\"\"\n",
    "    try:\n",
    "        n = np.fromfile(filename, dtype)\n",
    "        img = cv2.imdecode(n, flags)\n",
    "        return img\n",
    "    except Exception as e:\n",
    "        print(\"imread_error\", filename, e)\n",
    "        return None\n",
    "\n",
    "def imwrite(filename, img, params=None):\n",
    "    \"\"\"\n",
    "    ASCII文字を含んだファイル名でもOpenCV的に書き出す\n",
    "    \"\"\"\n",
    "    try:\n",
    "        ext = os.path.splitext(filename)[1]\n",
    "        result, n = cv2.imencode(ext, img, params)\n",
    "\n",
    "        if result:\n",
    "            with open(filename, mode='w+b') as f:\n",
    "                n.tofile(f)\n",
    "            return True\n",
    "        else:\n",
    "            return False\n",
    "    except Exception as e:\n",
    "        print(\"imwrite_error\", filename, e)\n",
    "        return False\n",
    "\n",
    "\n",
    "def resize_from_directory(raw_dir: str, new_dir: str, h: int =224, w: int =224):\n",
    "    \"\"\"\n",
    "    raw_dirディレクトリ内の画像全てをh*wにリサイズしてnew_dirに書き出す\n",
    "    \"\"\"\n",
    "    raw_root = Path(raw_dir)\n",
    "    paths = list(raw_root.glob(\"*\"))\n",
    "    new_root = Path(new_dir)\n",
    "    new_root.mkdir(exist_ok=True)\n",
    "    \n",
    "    assert raw_root != new_root\n",
    "    \n",
    "    for path in tqdm(paths):\n",
    "        img = imread(str(path))\n",
    "        name = path.name\n",
    "        if img is None:\n",
    "            print(f\"cannot read {name}\")\n",
    "            continue\n",
    "        img = cv2.resize(img, (h, w))\n",
    "        new_path = new_root/name\n",
    "        imwrite(str(new_path), img)"
   ]
  },
  {
   "cell_type": "code",
   "execution_count": null,
   "metadata": {},
   "outputs": [],
   "source": []
  }
 ],
 "metadata": {
  "kernelspec": {
   "display_name": "Environment (conda_tf23)",
   "language": "python",
   "name": "conda_tf23"
  },
  "language_info": {
   "codemirror_mode": {
    "name": "ipython",
    "version": 3
   },
   "file_extension": ".py",
   "mimetype": "text/x-python",
   "name": "python",
   "nbconvert_exporter": "python",
   "pygments_lexer": "ipython3",
   "version": "3.7.9"
  }
 },
 "nbformat": 4,
 "nbformat_minor": 4
}
